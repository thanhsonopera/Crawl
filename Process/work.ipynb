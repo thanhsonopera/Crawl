{
 "cells": [
  {
   "cell_type": "code",
   "execution_count": 7,
   "metadata": {},
   "outputs": [],
   "source": [
    "from data import *\n",
    "#1 -> #2 -> #5 -> #6 -> #7 Luồng chạy khi có thay đổi dữ liệu trong Puppeteer\n",
    "#6 -> #7  Luồng chạy lại trích xuất đặc trưng CSV\n",
    "#1 -> #2 -> #3 -> #4  Luồng chạy check dữ liệu sau khi chuẩn hóa"
   ]
  },
  {
   "cell_type": "markdown",
   "metadata": {},
   "source": [
    "### Khởi tạo từ điển cho loại quán (#1 #6)"
   ]
  },
  {
   "cell_type": "code",
   "execution_count": 4,
   "metadata": {},
   "outputs": [
    {
     "name": "stdout",
     "output_type": "stream",
     "text": [
      "Type Shop 1 :  {'Siêu thị': 80, 'Chụp ảnh': 3, 'Shop online': 64, 'Dịch vụ vệ sinh': 0, 'Hội nghị': 41, 'Trung tâm thương mại': 75, 'Shop hóa mỹ phẩm': 53, 'Bar': 44, 'Dịch vụ vận chuyển đồ đạc': 31, 'Di tích': 71, 'Cao đẳng': 12, 'Giao cơm văn phòng': 28, 'Du lịch sinh thái': 27, 'Mua sắm online': 9, 'Phổ thông': 43, 'Trung tâm ngoại ngữ': 45, 'Vỉa hè': 58, 'Sang trọng': 83, 'Café': 23, 'Tiệm bánh': 90, 'Nhà thờ': 21, 'Trạm xăng': 70, 'Phòng khám': 89, 'Mẫu giáo': 16, 'Thư viện': 36, 'Phương tiện': 39, 'Hãng du lịch': 22, 'Nhà sách': 59, 'Rạp chiếu phim': 33, 'Thẩm mỹ viện': 11, 'Massage': 79, 'Vận tải': 73, 'Trường dạy nghề': 5, 'Trung tâm giáo dục': 30, 'Shop': 54, 'Khu ẩm thực': 50, 'Trung học': 86, 'Phụ kiện': 51, 'Shop hoa': 57, 'Trang điểm': 62, 'Căn hộ': 88, 'Homestay': 72, 'Ăn vặt': 49, 'Beer club': 74, 'Sân khấu': 29, 'Xe cộ': 38, 'Bệnh viện': 69, 'Khách sạn': 92, 'Nhà nghỉ': 82, 'Karaoke': 87, 'Bảo tàng': 63, 'Dịch vụ sửa chữa nhà cửa': 10, 'Cửa hàng': 84, 'Pub': 55, 'Chợ': 19, 'Nhà trẻ': 17, 'Hoa cưới': 24, 'Bank': 66, 'Quán nhậu': 7, 'Tiệm nail': 18, 'Khu nghỉ dưỡng': 4, 'Viễn thông': 2, 'Nối mi': 25, 'Billiards': 46, 'Nhà thuốc': 52, 'Gội đầu': 1, 'Spa': 56, 'Áo cưới': 85, 'Nha khoa': 35, 'Chụp hình cưới': 61, 'Thể dục thể thao': 32, 'Thể dục thẩm mỹ': 15, 'Phòng vé máy bay': 40, 'Làm tóc': 37, 'Chùa': 34, 'Công viên vui chơi': 13, 'Giặt ủi': 81, 'Atm': 76, 'Chăm sóc da': 60, 'Ăn chay': 20, 'Tiệc cưới': 14, 'Quán ăn': 77, 'Xăm hình': 47, 'Khu chơi game': 8, 'Thăm quan': 42, 'Buffet': 78, 'Dessert': 67, 'Tàu du lịch': 26, 'Tiệc tận nơi': 91, 'Vật nuôi': 68, 'Nhà hàng': 48, 'Trụ sở ban ngành': 6, 'Đại học': 65}\n",
      "Type Shop 2 :  {'Món quảng': 40, 'Malaysia': 20, 'Úc': 27, 'Món việt': 45, 'Bắc âu': 5, 'Iran': 16, 'Mỹ': 23, 'Món trung hoa': 28, 'Đặc sản vùng': 15, 'Đức': 26, 'Món nhật': 0, 'Món bắc': 43, 'Brazil': 21, 'Đặc biệt': 39, 'Châu mỹ': 44, 'Đà lạt': 46, 'Trung đông': 4, 'Campuchia': 35, 'Canada': 13, 'Bình định': 22, 'Món miền trung': 38, 'Món á': 11, 'Pháp': 25, 'Ý': 30, 'Thụy sĩ': 33, 'Miền tây': 14, 'Nha trang': 18, 'Món thái': 7, 'Ả rập': 50, 'Hà nội': 42, 'Thổ nhĩ kỳ': 29, 'Miền đông': 47, 'Indonesia': 6, 'Món miền nam': 41, 'Argentina': 1, 'Bánh pizza': 24, 'Singapore': 34, 'Đài loan': 36, 'Tây bắc': 31, 'Món hàn': 12, 'Tây nguyên': 49, 'Tây ban nha': 9, 'Châu phi': 32, 'Nam định': 48, 'Món huế': 2, 'Đông âu': 37, 'Món âu': 51, 'Món ấn độ': 17, 'Quốc tế': 3, 'Philippines': 10, 'Mexico': 8, 'Tiệp (séc)': 19}\n"
     ]
    }
   ],
   "source": [
    "init = Data()"
   ]
  },
  {
   "cell_type": "markdown",
   "metadata": {},
   "source": [
    "### Trích xuất từ điển loại quán sau khi thực hiện process (#5)"
   ]
  },
  {
   "cell_type": "code",
   "execution_count": 5,
   "metadata": {},
   "outputs": [
    {
     "name": "stderr",
     "output_type": "stream",
     "text": [
      "100%|██████████| 90/90 [00:05<00:00, 16.98it/s]\n"
     ]
    }
   ],
   "source": [
    "init.exportDict()"
   ]
  },
  {
   "cell_type": "markdown",
   "metadata": {},
   "source": [
    "### Thực hiện Export ra dạng CSV chưa các comment (#7) cuối cùng"
   ]
  },
  {
   "cell_type": "code",
   "execution_count": 7,
   "metadata": {},
   "outputs": [
    {
     "name": "stderr",
     "output_type": "stream",
     "text": [
      "100%|██████████| 90/90 [00:07<00:00, 11.92it/s]\n"
     ]
    }
   ],
   "source": [
    "init.exportCsv()"
   ]
  },
  {
   "cell_type": "markdown",
   "metadata": {},
   "source": [
    "### Kiểm tra các Place còn chưa thực hiện (#4)"
   ]
  },
  {
   "cell_type": "code",
   "execution_count": 6,
   "metadata": {},
   "outputs": [],
   "source": [
    "init.checkPlace()"
   ]
  },
  {
   "cell_type": "markdown",
   "metadata": {},
   "source": [
    "### Check các thư mục sau khi Process (#3)"
   ]
  },
  {
   "cell_type": "code",
   "execution_count": 5,
   "metadata": {},
   "outputs": [
    {
     "name": "stdout",
     "output_type": "stream",
     "text": [
      "Number Place :  26\n",
      "All Comment Place :  161245\n",
      "All Shop Place :  16502\n",
      "All Shop Have More 100 Comment Place :  473\n",
      "Have Place :  ['binh-thuan', 'ca-mau', 'cao-bang', 'chiangmai', 'dong-nai', 'Gyeongqi-Do', 'ha-noi', 'ha-tinh', 'hai-duong', 'hai-phong', 'ho-chi-minh', 'hue', 'hung-yen', 'Johor', 'khanh-hoa', 'lai-chau', 'nam-dinh', 'phu-quoc', 'quang-nam', 'quang-ninh', 'quang-tri', 'Selangor', 'taoyuan-city', 'thai-binh', 'tuyen-quang', 'vinh-phuc']\n"
     ]
    }
   ],
   "source": [
    "init.reportCheck()"
   ]
  },
  {
   "cell_type": "markdown",
   "metadata": {},
   "source": [
    "### Thực hiện đầu tiên chuẩn hóa các file Comment (#2)"
   ]
  },
  {
   "cell_type": "code",
   "execution_count": 3,
   "metadata": {},
   "outputs": [
    {
     "name": "stderr",
     "output_type": "stream",
     "text": [
      "  0%|          | 0/90 [00:00<?, ?it/s]"
     ]
    },
    {
     "name": "stdout",
     "output_type": "stream",
     "text": [
      "Place : binh-thuan\n"
     ]
    },
    {
     "name": "stderr",
     "output_type": "stream",
     "text": [
      "  2%|▏         | 2/90 [00:00<00:29,  3.02it/s]"
     ]
    },
    {
     "name": "stdout",
     "output_type": "stream",
     "text": [
      "NumberShopHave 100 comments :  3\n",
      "NumberShop 224\n",
      "NumComment 2007\n",
      "Place : ca-mau\n",
      "NumberShopHave 100 comments :  1\n",
      "NumberShop 181\n",
      "NumComment 646\n"
     ]
    },
    {
     "name": "stderr",
     "output_type": "stream",
     "text": [
      "  7%|▋         | 6/90 [00:00<00:08,  9.97it/s]"
     ]
    },
    {
     "name": "stdout",
     "output_type": "stream",
     "text": [
      "Place : ca-mau\n",
      "NumberShopHave 100 comments :  0\n",
      "NumberShop 2\n",
      "NumComment 2\n",
      "Place : ca-mau\n",
      "NumberShopHave 100 comments :  0\n",
      "NumberShop 4\n",
      "NumComment 5\n",
      "Place : ca-mau\n",
      "NumberShopHave 100 comments :  0\n",
      "NumberShop 16\n",
      "NumComment 41\n",
      "Place : cao-bang\n",
      "NumberShopHave 100 comments :  2\n",
      "NumberShop 44\n",
      "NumComment 269\n",
      "Place : cao-bang\n",
      "NumberShopHave 100 comments :  0\n",
      "NumberShop 8\n",
      "NumComment 20\n",
      "Place : chiangmai\n",
      "NumberShopHave 100 comments :  0\n",
      "NumberShop 5\n",
      "NumComment 5\n",
      "Place : dong-nai\n"
     ]
    },
    {
     "name": "stderr",
     "output_type": "stream",
     "text": [
      " 10%|█         | 9/90 [00:02<00:26,  3.04it/s]"
     ]
    },
    {
     "name": "stdout",
     "output_type": "stream",
     "text": [
      "NumberShopHave 100 comments :  6\n",
      "NumberShop 690\n",
      "NumComment 5914\n",
      "Place : Gyeongqi-Do\n",
      "NumberShopHave 100 comments :  0\n",
      "NumberShop 1\n",
      "NumComment 1\n",
      "Place : ha-noi\n"
     ]
    },
    {
     "name": "stderr",
     "output_type": "stream",
     "text": [
      " 13%|█▎        | 12/90 [00:03<00:18,  4.12it/s]"
     ]
    },
    {
     "name": "stdout",
     "output_type": "stream",
     "text": [
      "NumberShopHave 100 comments :  6\n",
      "NumberShop 26\n",
      "NumComment 1108\n",
      "Place : ha-tinh\n",
      "NumberShopHave 100 comments :  1\n",
      "NumberShop 131\n",
      "NumComment 389\n",
      "Place : ha-tinh\n",
      "NumberShopHave 100 comments :  0\n",
      "NumberShop 2\n",
      "NumComment 2\n",
      "Place : ha-tinh\n",
      "NumberShopHave 100 comments :  0\n",
      "NumberShop 2\n",
      "NumComment 2\n",
      "Place : ha-tinh\n",
      "NumberShopHave 100 comments :  0\n",
      "NumberShop 10\n",
      "NumComment 52\n",
      "Place : hai-duong\n"
     ]
    },
    {
     "name": "stderr",
     "output_type": "stream",
     "text": [
      " 18%|█▊        | 16/90 [00:03<00:10,  7.34it/s]"
     ]
    },
    {
     "name": "stdout",
     "output_type": "stream",
     "text": [
      "NumberShopHave 100 comments :  1\n",
      "NumberShop 52\n",
      "NumComment 429\n",
      "Place : hai-duong\n",
      "NumberShopHave 100 comments :  0\n",
      "NumberShop 4\n",
      "NumComment 6\n",
      "Place : hai-duong\n",
      "NumberShopHave 100 comments :  0\n",
      "NumberShop 7\n",
      "NumComment 13\n",
      "Place : hai-duong\n",
      "NumberShopHave 100 comments :  0\n",
      "NumberShop 5\n",
      "NumComment 119\n",
      "Place : hai-phong\n"
     ]
    },
    {
     "name": "stderr",
     "output_type": "stream",
     "text": [
      " 22%|██▏       | 20/90 [00:07<00:33,  2.06it/s]"
     ]
    },
    {
     "name": "stdout",
     "output_type": "stream",
     "text": [
      "NumberShopHave 100 comments :  37\n",
      "NumberShop 927\n",
      "NumComment 13978\n",
      "Place : ho-chi-minh\n",
      "NumberShopHave 100 comments :  70\n",
      "NumberShop 480\n",
      "NumComment 13813\n",
      "Place : ho-chi-minh\n"
     ]
    },
    {
     "name": "stderr",
     "output_type": "stream",
     "text": [
      " 24%|██▍       | 22/90 [00:11<00:59,  1.15it/s]"
     ]
    },
    {
     "name": "stdout",
     "output_type": "stream",
     "text": [
      "NumberShopHave 100 comments :  36\n",
      "NumberShop 294\n",
      "NumComment 7393\n",
      "Place : ho-chi-minh\n"
     ]
    },
    {
     "name": "stderr",
     "output_type": "stream",
     "text": [
      " 26%|██▌       | 23/90 [00:14<01:20,  1.20s/it]"
     ]
    },
    {
     "name": "stdout",
     "output_type": "stream",
     "text": [
      "NumberShopHave 100 comments :  55\n",
      "NumberShop 425\n",
      "NumComment 11447\n",
      "Place : ho-chi-minh\n"
     ]
    },
    {
     "name": "stderr",
     "output_type": "stream",
     "text": [
      " 27%|██▋       | 24/90 [00:19<02:05,  1.90s/it]"
     ]
    },
    {
     "name": "stdout",
     "output_type": "stream",
     "text": [
      "NumberShopHave 100 comments :  82\n",
      "NumberShop 718\n",
      "NumComment 19441\n",
      "Place : ho-chi-minh\n"
     ]
    },
    {
     "name": "stderr",
     "output_type": "stream",
     "text": [
      " 28%|██▊       | 25/90 [00:21<01:56,  1.79s/it]"
     ]
    },
    {
     "name": "stdout",
     "output_type": "stream",
     "text": [
      "NumberShopHave 100 comments :  5\n",
      "NumberShop 1124\n",
      "NumComment 3772\n",
      "Place : ho-chi-minh\n"
     ]
    },
    {
     "name": "stderr",
     "output_type": "stream",
     "text": [
      " 29%|██▉       | 26/90 [00:21<01:34,  1.48s/it]"
     ]
    },
    {
     "name": "stdout",
     "output_type": "stream",
     "text": [
      "NumberShopHave 100 comments :  0\n",
      "NumberShop 130\n",
      "NumComment 627\n",
      "Place : ho-chi-minh\n"
     ]
    },
    {
     "name": "stderr",
     "output_type": "stream",
     "text": [
      " 31%|███       | 28/90 [00:23<01:12,  1.17s/it]"
     ]
    },
    {
     "name": "stdout",
     "output_type": "stream",
     "text": [
      "NumberShopHave 100 comments :  8\n",
      "NumberShop 387\n",
      "NumComment 4720\n",
      "Place : ho-chi-minh\n",
      "NumberShopHave 100 comments :  1\n",
      "NumberShop 153\n",
      "NumComment 439\n",
      "Place : ho-chi-minh\n"
     ]
    },
    {
     "name": "stderr",
     "output_type": "stream",
     "text": [
      " 32%|███▏      | 29/90 [00:25<01:30,  1.48s/it]"
     ]
    },
    {
     "name": "stdout",
     "output_type": "stream",
     "text": [
      "NumberShopHave 100 comments :  3\n",
      "NumberShop 1493\n",
      "NumComment 6507\n",
      "Place : ho-chi-minh\n"
     ]
    },
    {
     "name": "stderr",
     "output_type": "stream",
     "text": [
      " 33%|███▎      | 30/90 [00:27<01:27,  1.46s/it]"
     ]
    },
    {
     "name": "stdout",
     "output_type": "stream",
     "text": [
      "NumberShopHave 100 comments :  21\n",
      "NumberShop 496\n",
      "NumComment 4701\n",
      "Place : ho-chi-minh\n"
     ]
    },
    {
     "name": "stderr",
     "output_type": "stream",
     "text": [
      " 34%|███▍      | 31/90 [00:28<01:18,  1.33s/it]"
     ]
    },
    {
     "name": "stdout",
     "output_type": "stream",
     "text": [
      "NumberShopHave 100 comments :  7\n",
      "NumberShop 233\n",
      "NumComment 3289\n",
      "Place : hue\n"
     ]
    },
    {
     "name": "stderr",
     "output_type": "stream",
     "text": [
      " 39%|███▉      | 35/90 [00:33<01:03,  1.15s/it]"
     ]
    },
    {
     "name": "stdout",
     "output_type": "stream",
     "text": [
      "NumberShopHave 100 comments :  25\n",
      "NumberShop 1844\n",
      "NumComment 16201\n",
      "Place : hue\n",
      "NumberShopHave 100 comments :  0\n",
      "NumberShop 9\n",
      "NumComment 11\n",
      "Place : hue\n",
      "NumberShopHave 100 comments :  0\n",
      "NumberShop 9\n",
      "NumComment 112\n",
      "Place : hue\n",
      "NumberShopHave 100 comments :  0\n",
      "NumberShop 16\n",
      "NumComment 45\n",
      "Place : hue\n"
     ]
    },
    {
     "name": "stderr",
     "output_type": "stream",
     "text": [
      " 44%|████▍     | 40/90 [00:34<00:23,  2.11it/s]"
     ]
    },
    {
     "name": "stdout",
     "output_type": "stream",
     "text": [
      "NumberShopHave 100 comments :  6\n",
      "NumberShop 155\n",
      "NumComment 1914\n",
      "Place : hung-yen\n",
      "NumberShopHave 100 comments :  0\n",
      "NumberShop 104\n",
      "NumComment 162\n",
      "Place : hung-yen\n",
      "NumberShopHave 100 comments :  0\n",
      "NumberShop 3\n",
      "NumComment 5\n",
      "Place : hung-yen\n",
      "NumberShopHave 100 comments :  0\n",
      "NumberShop 3\n",
      "NumComment 3\n",
      "Place : hung-yen\n",
      "NumberShopHave 100 comments :  0\n",
      "NumberShop 2\n",
      "NumComment 40\n",
      "Place : Johor\n",
      "NumberShopHave 100 comments :  0\n",
      "NumberShop 4\n",
      "NumComment 4\n",
      "Place : khanh-hoa\n"
     ]
    },
    {
     "name": "stderr",
     "output_type": "stream",
     "text": [
      " 47%|████▋     | 42/90 [00:36<00:30,  1.55it/s]"
     ]
    },
    {
     "name": "stdout",
     "output_type": "stream",
     "text": [
      "NumberShopHave 100 comments :  23\n",
      "NumberShop 610\n",
      "NumComment 8106\n",
      "Place : khanh-hoa\n"
     ]
    },
    {
     "name": "stderr",
     "output_type": "stream",
     "text": [
      " 49%|████▉     | 44/90 [00:38<00:35,  1.30it/s]"
     ]
    },
    {
     "name": "stdout",
     "output_type": "stream",
     "text": [
      "NumberShopHave 100 comments :  1\n",
      "NumberShop 1253\n",
      "NumComment 5691\n",
      "Place : khanh-hoa\n",
      "NumberShopHave 100 comments :  2\n",
      "NumberShop 29\n",
      "NumComment 361\n",
      "Place : khanh-hoa\n",
      "NumberShopHave 100 comments :  0\n",
      "NumberShop 23\n",
      "NumComment 104\n",
      "Place : khanh-hoa\n",
      "NumberShopHave 100 comments :  0\n",
      "NumberShop 11\n",
      "NumComment 24\n",
      "Place : khanh-hoa\n"
     ]
    },
    {
     "name": "stderr",
     "output_type": "stream",
     "text": [
      " 52%|█████▏    | 47/90 [00:38<00:21,  2.03it/s]"
     ]
    },
    {
     "name": "stdout",
     "output_type": "stream",
     "text": [
      "NumberShopHave 100 comments :  0\n",
      "NumberShop 33\n",
      "NumComment 82\n",
      "Place : khanh-hoa\n",
      "NumberShopHave 100 comments :  21\n",
      "NumberShop 242\n",
      "NumComment 3607\n",
      "Place : khanh-hoa\n"
     ]
    },
    {
     "name": "stderr",
     "output_type": "stream",
     "text": [
      " 54%|█████▍    | 49/90 [00:40<00:22,  1.86it/s]"
     ]
    },
    {
     "name": "stdout",
     "output_type": "stream",
     "text": [
      "NumberShopHave 100 comments :  6\n",
      "NumberShop 70\n",
      "NumComment 1363\n",
      "Place : lai-chau\n",
      "NumberShopHave 100 comments :  0\n",
      "NumberShop 4\n",
      "NumComment 12\n",
      "Place : lai-chau\n",
      "NumberShopHave 100 comments :  0\n",
      "NumberShop 1\n",
      "NumComment 1\n",
      "Place : nam-dinh\n"
     ]
    },
    {
     "name": "stderr",
     "output_type": "stream",
     "text": [
      " 58%|█████▊    | 52/90 [00:40<00:15,  2.52it/s]"
     ]
    },
    {
     "name": "stdout",
     "output_type": "stream",
     "text": [
      "NumberShopHave 100 comments :  0\n",
      "NumberShop 315\n",
      "NumComment 1348\n",
      "Place : nam-dinh\n",
      "NumberShopHave 100 comments :  0\n",
      "NumberShop 3\n",
      "NumComment 3\n",
      "Place : nam-dinh\n",
      "NumberShopHave 100 comments :  1\n",
      "NumberShop 5\n",
      "NumComment 129\n",
      "Place : phu-quoc\n"
     ]
    },
    {
     "name": "stderr",
     "output_type": "stream",
     "text": [
      " 61%|██████    | 55/90 [00:42<00:15,  2.29it/s]"
     ]
    },
    {
     "name": "stdout",
     "output_type": "stream",
     "text": [
      "NumberShopHave 100 comments :  24\n",
      "NumberShop 443\n",
      "NumComment 6146\n",
      "Place : phu-quoc\n",
      "NumberShopHave 100 comments :  0\n",
      "NumberShop 5\n",
      "NumComment 15\n",
      "Place : phu-quoc\n",
      "NumberShopHave 100 comments :  0\n",
      "NumberShop 3\n",
      "NumComment 14\n",
      "Place : phu-quoc\n",
      "NumberShopHave 100 comments :  0\n",
      "NumberShop 14\n",
      "NumComment 65\n",
      "Place : phu-quoc\n"
     ]
    },
    {
     "name": "stderr",
     "output_type": "stream",
     "text": [
      " 66%|██████▌   | 59/90 [00:42<00:09,  3.17it/s]"
     ]
    },
    {
     "name": "stdout",
     "output_type": "stream",
     "text": [
      "NumberShopHave 100 comments :  4\n",
      "NumberShop 153\n",
      "NumComment 1654\n",
      "Place : quang-nam\n"
     ]
    },
    {
     "name": "stderr",
     "output_type": "stream",
     "text": [
      " 67%|██████▋   | 60/90 [00:43<00:12,  2.32it/s]"
     ]
    },
    {
     "name": "stdout",
     "output_type": "stream",
     "text": [
      "NumberShopHave 100 comments :  6\n",
      "NumberShop 801\n",
      "NumComment 3900\n",
      "Place : quang-nam\n",
      "NumberShopHave 100 comments :  0\n",
      "NumberShop 2\n",
      "NumComment 2\n",
      "Place : quang-nam\n",
      "NumberShopHave 100 comments :  0\n",
      "NumberShop 11\n",
      "NumComment 25\n",
      "Place : quang-nam\n"
     ]
    },
    {
     "name": "stderr",
     "output_type": "stream",
     "text": [
      " 70%|███████   | 63/90 [00:44<00:08,  3.09it/s]"
     ]
    },
    {
     "name": "stdout",
     "output_type": "stream",
     "text": [
      "NumberShopHave 100 comments :  2\n",
      "NumberShop 173\n",
      "NumComment 1178\n",
      "Place : quang-ninh\n"
     ]
    },
    {
     "name": "stderr",
     "output_type": "stream",
     "text": [
      " 74%|███████▍  | 67/90 [00:45<00:07,  3.15it/s]"
     ]
    },
    {
     "name": "stdout",
     "output_type": "stream",
     "text": [
      "NumberShopHave 100 comments :  3\n",
      "NumberShop 1117\n",
      "NumComment 4482\n",
      "Place : quang-ninh\n",
      "NumberShopHave 100 comments :  0\n",
      "NumberShop 28\n",
      "NumComment 192\n",
      "Place : quang-ninh\n",
      "NumberShopHave 100 comments :  0\n",
      "NumberShop 1\n",
      "NumComment 3\n",
      "Place : quang-ninh\n",
      "NumberShopHave 100 comments :  0\n",
      "NumberShop 33\n",
      "NumComment 89\n",
      "Place : quang-ninh\n",
      "NumberShopHave 100 comments :  3\n",
      "NumberShop 109\n",
      "NumComment 1120\n",
      "Place : quang-tri\n"
     ]
    },
    {
     "name": "stderr",
     "output_type": "stream",
     "text": [
      " 83%|████████▎ | 75/90 [00:46<00:02,  6.40it/s]"
     ]
    },
    {
     "name": "stdout",
     "output_type": "stream",
     "text": [
      "NumberShopHave 100 comments :  0\n",
      "NumberShop 246\n",
      "NumComment 635\n",
      "Place : quang-tri\n",
      "NumberShopHave 100 comments :  0\n",
      "NumberShop 3\n",
      "NumComment 6\n",
      "Place : quang-tri\n",
      "NumberShopHave 100 comments :  0\n",
      "NumberShop 1\n",
      "NumComment 1\n",
      "Place : quang-tri\n",
      "NumberShopHave 100 comments :  0\n",
      "NumberShop 13\n",
      "NumComment 22\n",
      "Place : Selangor\n",
      "NumberShopHave 100 comments :  0\n",
      "NumberShop 5\n",
      "NumComment 5\n",
      "Place : taoyuan-city\n",
      "NumberShopHave 100 comments :  0\n",
      "NumberShop 3\n",
      "NumComment 3\n",
      "Place : thai-binh\n",
      "NumberShopHave 100 comments :  0\n",
      "NumberShop 124\n",
      "NumComment 438\n"
     ]
    },
    {
     "name": "stderr",
     "output_type": "stream",
     "text": [
      " 90%|█████████ | 81/90 [00:46<00:00,  9.92it/s]"
     ]
    },
    {
     "name": "stdout",
     "output_type": "stream",
     "text": [
      "Place : thai-binh\n",
      "NumberShopHave 100 comments :  0\n",
      "NumberShop 1\n",
      "NumComment 2\n",
      "Place : thai-binh\n",
      "NumberShopHave 100 comments :  0\n",
      "NumberShop 6\n",
      "NumComment 9\n",
      "Place : thai-binh\n",
      "NumberShopHave 100 comments :  0\n",
      "NumberShop 0\n",
      "NumComment 0\n",
      "Place : tuyen-quang\n",
      "NumberShopHave 100 comments :  0\n",
      "NumberShop 31\n",
      "NumComment 49\n",
      "Place : tuyen-quang\n",
      "NumberShopHave 100 comments :  0\n",
      "NumberShop 3\n",
      "NumComment 4\n",
      "Place : vinh-phuc\n",
      "NumberShopHave 100 comments :  1\n",
      "NumberShop 115\n",
      "NumComment 412\n",
      "Place : vinh-phuc\n",
      "NumberShopHave 100 comments :  0\n",
      "NumberShop 3\n",
      "NumComment 8\n",
      "Place : vinh-phuc\n",
      "NumberShopHave 100 comments :  0\n",
      "NumberShop 2\n",
      "NumComment 3\n",
      "Place : vinh-phuc\n",
      "NumberShopHave 100 comments :  0\n",
      "NumberShop 31\n",
      "NumComment 278\n",
      "Place : vung-tau\n"
     ]
    },
    {
     "name": "stderr",
     "output_type": "stream",
     "text": [
      " 98%|█████████▊| 88/90 [00:51<00:00,  3.26it/s]"
     ]
    },
    {
     "name": "stdout",
     "output_type": "stream",
     "text": [
      "NumberShopHave 100 comments :  26\n",
      "NumberShop 1613\n",
      "NumComment 13258\n",
      "Place : vung-tau\n",
      "NumberShopHave 100 comments :  0\n",
      "NumberShop 23\n",
      "NumComment 90\n",
      "Place : vung-tau\n",
      "NumberShopHave 100 comments :  0\n",
      "NumberShop 3\n",
      "NumComment 8\n",
      "Place : vung-tau\n",
      "NumberShopHave 100 comments :  0\n",
      "NumberShop 23\n",
      "NumComment 60\n",
      "Place : vung-tau\n"
     ]
    },
    {
     "name": "stderr",
     "output_type": "stream",
     "text": [
      "100%|██████████| 90/90 [00:51<00:00,  1.74it/s]"
     ]
    },
    {
     "name": "stdout",
     "output_type": "stream",
     "text": [
      "NumberShopHave 100 comments :  5\n",
      "NumberShop 257\n",
      "NumComment 2191\n",
      "Place : vung-tau\n",
      "NumberShopHave 100 comments :  1\n",
      "NumberShop 15\n",
      "NumComment 168\n"
     ]
    },
    {
     "name": "stderr",
     "output_type": "stream",
     "text": [
      "\n"
     ]
    }
   ],
   "source": [
    "init.process()"
   ]
  },
  {
   "cell_type": "markdown",
   "metadata": {},
   "source": [
    "### Test"
   ]
  },
  {
   "cell_type": "code",
   "execution_count": 4,
   "metadata": {},
   "outputs": [
    {
     "name": "stdout",
     "output_type": "stream",
     "text": [
      "Tuyt Trang 123 \n"
     ]
    }
   ],
   "source": [
    "import re\n",
    "\n",
    "new_name = re.sub(r'\\s+', ' ', text).strip()\n",
    "new_name"
   ]
  },
  {
   "cell_type": "code",
   "execution_count": 21,
   "metadata": {},
   "outputs": [
    {
     "name": "stdout",
     "output_type": "stream",
     "text": [
      "['111']\n"
     ]
    }
   ],
   "source": [
    "number_pattern = r'^\\s*(\\d+)\\s'\n",
    "text = \"              111 bình luận đã chia sẻ 111 \"\n",
    "result = re.findall(number_pattern, text)\n",
    "print(result)"
   ]
  },
  {
   "cell_type": "code",
   "execution_count": 3,
   "metadata": {},
   "outputs": [
    {
     "data": {
      "text/plain": [
       "'Vị trí'"
      ]
     },
     "execution_count": 3,
     "metadata": {},
     "output_type": "execute_result"
    }
   ],
   "source": [
    "text = '\\n                                    Vị trí\\n                '                \n",
    "# text = text.replace('#', '')\n",
    "new = re.sub(r'\\s+', ' ', text).strip()\n",
    "new"
   ]
  },
  {
   "cell_type": "code",
   "execution_count": 1,
   "metadata": {},
   "outputs": [
    {
     "data": {
      "text/plain": [
       "'../Puppeteer/Comment/Place/ho-chi-minh/comment_ho-chi-minh.json'"
      ]
     },
     "execution_count": 1,
     "metadata": {},
     "output_type": "execute_result"
    }
   ],
   "source": [
    "text = '../Puppeteer/Comment/Place\\ho-chi-minh\\comment_ho-chi-minh.json'\n",
    "text.replace('\\\\', '/')"
   ]
  },
  {
   "cell_type": "code",
   "execution_count": 5,
   "metadata": {},
   "outputs": [
    {
     "name": "stderr",
     "output_type": "stream",
     "text": [
      "c:\\Users\\thanh\\anaconda3\\envs\\ml\\Lib\\site-packages\\tqdm\\auto.py:21: TqdmWarning: IProgress not found. Please update jupyter and ipywidgets. See https://ipywidgets.readthedocs.io/en/stable/user_install.html\n",
      "  from .autonotebook import tqdm as notebook_tqdm\n"
     ]
    }
   ],
   "source": [
    "from underthesea import text_normalize"
   ]
  },
  {
   "cell_type": "code",
   "execution_count": 9,
   "metadata": {},
   "outputs": [
    {
     "data": {
      "text/plain": [
       "'ahdhs#dsad'"
      ]
     },
     "execution_count": 9,
     "metadata": {},
     "output_type": "execute_result"
    }
   ],
   "source": [
    "text = \"ahdhs/#ds.ad\"\n",
    "name = re.sub(r'[@/.]', '', text)\n",
    "name2 = re.sub(r'\\s+', ' ', name).strip()\n",
    "name2"
   ]
  },
  {
   "cell_type": "code",
   "execution_count": 6,
   "metadata": {},
   "outputs": [],
   "source": [
    "import pandas as pd\n",
    "data = pd.read_csv(r'C:\\Users\\thanh\\Documents\\GitHub\\Crawl\\Process\\Repreprocess\\CSV\\ho-chi-minh\\comment_ho-chi-minh.csv')"
   ]
  },
  {
   "cell_type": "code",
   "execution_count": 7,
   "metadata": {},
   "outputs": [
    {
     "data": {
      "text/html": [
       "<div>\n",
       "<style scoped>\n",
       "    .dataframe tbody tr th:only-of-type {\n",
       "        vertical-align: middle;\n",
       "    }\n",
       "\n",
       "    .dataframe tbody tr th {\n",
       "        vertical-align: top;\n",
       "    }\n",
       "\n",
       "    .dataframe thead th {\n",
       "        text-align: right;\n",
       "    }\n",
       "</style>\n",
       "<table border=\"1\" class=\"dataframe\">\n",
       "  <thead>\n",
       "    <tr style=\"text-align: right;\">\n",
       "      <th></th>\n",
       "      <th>user_href</th>\n",
       "      <th>user_timec</th>\n",
       "      <th>user_titlec</th>\n",
       "      <th>user_comment</th>\n",
       "      <th>place</th>\n",
       "      <th>price</th>\n",
       "      <th>quality</th>\n",
       "      <th>service</th>\n",
       "      <th>ambience</th>\n",
       "      <th>user_options</th>\n",
       "      <th>num_cmt_post</th>\n",
       "      <th>city</th>\n",
       "      <th>category</th>\n",
       "      <th>type_1_shop</th>\n",
       "      <th>type_2_shop</th>\n",
       "    </tr>\n",
       "  </thead>\n",
       "  <tbody>\n",
       "    <tr>\n",
       "      <th>0</th>\n",
       "      <td>foodee_abc14671</td>\n",
       "      <td>2022-09-17T09:01:00</td>\n",
       "      <td>Đồ ăn ngon,phục vụ nhucc</td>\n",
       "      <td>Đồ ăn ngon, phục vụ như lol</td>\n",
       "      <td>1.0</td>\n",
       "      <td>4.0</td>\n",
       "      <td>10.0</td>\n",
       "      <td>1.0</td>\n",
       "      <td>1.0</td>\n",
       "      <td>NaN</td>\n",
       "      <td>0</td>\n",
       "      <td>ho-chi-minh</td>\n",
       "      <td>all</td>\n",
       "      <td>21/</td>\n",
       "      <td>40/</td>\n",
       "    </tr>\n",
       "    <tr>\n",
       "      <th>1</th>\n",
       "      <td>pdhphilong</td>\n",
       "      <td>2022-04-06T20:08:00</td>\n",
       "      <td>Phục vụ siêu tệ</td>\n",
       "      <td>Đồ ăn ngon mà thái độ không ra gì</td>\n",
       "      <td>1.0</td>\n",
       "      <td>4.0</td>\n",
       "      <td>5.0</td>\n",
       "      <td>1.0</td>\n",
       "      <td>5.0</td>\n",
       "      <td>NaN</td>\n",
       "      <td>0</td>\n",
       "      <td>ho-chi-minh</td>\n",
       "      <td>all</td>\n",
       "      <td>21/</td>\n",
       "      <td>40/</td>\n",
       "    </tr>\n",
       "    <tr>\n",
       "      <th>2</th>\n",
       "      <td>pebap_lovely</td>\n",
       "      <td>2022-02-12T13:51:00</td>\n",
       "      <td>Nồi bánh canh</td>\n",
       "      <td>Nhờ nhỏ e dẫn đi mới biết trong hẻm hóc có cái...</td>\n",
       "      <td>7.0</td>\n",
       "      <td>8.0</td>\n",
       "      <td>8.0</td>\n",
       "      <td>6.0</td>\n",
       "      <td>6.0</td>\n",
       "      <td>NaN</td>\n",
       "      <td>0</td>\n",
       "      <td>ho-chi-minh</td>\n",
       "      <td>all</td>\n",
       "      <td>21/</td>\n",
       "      <td>40/</td>\n",
       "    </tr>\n",
       "  </tbody>\n",
       "</table>\n",
       "</div>"
      ],
      "text/plain": [
       "         user_href           user_timec               user_titlec  \\\n",
       "0  foodee_abc14671  2022-09-17T09:01:00  Đồ ăn ngon,phục vụ nhucc   \n",
       "1       pdhphilong  2022-04-06T20:08:00           Phục vụ siêu tệ   \n",
       "2     pebap_lovely  2022-02-12T13:51:00             Nồi bánh canh   \n",
       "\n",
       "                                        user_comment  place  price  quality  \\\n",
       "0                        Đồ ăn ngon, phục vụ như lol    1.0    4.0     10.0   \n",
       "1                  Đồ ăn ngon mà thái độ không ra gì    1.0    4.0      5.0   \n",
       "2  Nhờ nhỏ e dẫn đi mới biết trong hẻm hóc có cái...    7.0    8.0      8.0   \n",
       "\n",
       "   service  ambience  user_options  num_cmt_post         city category  \\\n",
       "0      1.0       1.0           NaN             0  ho-chi-minh      all   \n",
       "1      1.0       5.0           NaN             0  ho-chi-minh      all   \n",
       "2      6.0       6.0           NaN             0  ho-chi-minh      all   \n",
       "\n",
       "  type_1_shop type_2_shop  \n",
       "0         21/         40/  \n",
       "1         21/         40/  \n",
       "2         21/         40/  "
      ]
     },
     "execution_count": 7,
     "metadata": {},
     "output_type": "execute_result"
    }
   ],
   "source": [
    "data.head(3)"
   ]
  }
 ],
 "metadata": {
  "kernelspec": {
   "display_name": "ml",
   "language": "python",
   "name": "python3"
  },
  "language_info": {
   "codemirror_mode": {
    "name": "ipython",
    "version": 3
   },
   "file_extension": ".py",
   "mimetype": "text/x-python",
   "name": "python",
   "nbconvert_exporter": "python",
   "pygments_lexer": "ipython3",
   "version": "3.11.5"
  }
 },
 "nbformat": 4,
 "nbformat_minor": 2
}
