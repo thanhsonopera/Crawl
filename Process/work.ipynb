{
 "cells": [
  {
   "cell_type": "code",
   "execution_count": 1,
   "metadata": {},
   "outputs": [],
   "source": [
    "from data import *"
   ]
  },
  {
   "cell_type": "code",
   "execution_count": 2,
   "metadata": {},
   "outputs": [],
   "source": [
    "init = Data()"
   ]
  },
  {
   "cell_type": "code",
   "execution_count": 3,
   "metadata": {},
   "outputs": [
    {
     "name": "stdout",
     "output_type": "stream",
     "text": [
      "Number Place :  21\n",
      "All Comment Place :  157639\n",
      "All Shop Place :  15847\n",
      "All Shop Have More 100 Comment Place :  468\n",
      "Have Place :  ['ca-mau', 'cao-bang', 'chiangmai', 'dong-nai', 'Gyeongqi-Do', 'ha-noi', 'hai-duong', 'hai-phong', 'ho-chi-minh', 'hue', 'hung-yen', 'khanh-hoa', 'lai-chau', 'nam-dinh', 'phu-quoc', 'quang-nam', 'quang-ninh', 'quang-tri', 'Selangor', 'taoyuan-city', 'tuyen-quang']\n"
     ]
    }
   ],
   "source": [
    "init.reportCheck()"
   ]
  },
  {
   "cell_type": "code",
   "execution_count": 3,
   "metadata": {},
   "outputs": [
    {
     "name": "stderr",
     "output_type": "stream",
     "text": [
      "  0%|          | 0/74 [00:00<?, ?it/s]"
     ]
    },
    {
     "name": "stdout",
     "output_type": "stream",
     "text": [
      "Place : ca-mau\n"
     ]
    },
    {
     "name": "stderr",
     "output_type": "stream",
     "text": [
      "  1%|▏         | 1/74 [00:00<00:15,  4.57it/s]"
     ]
    },
    {
     "name": "stdout",
     "output_type": "stream",
     "text": [
      "NumberShopHave 100 comments :  1\n",
      "NumberShop 181\n",
      "NumComment 646\n",
      "Place : ca-mau\n",
      "NumberShopHave 100 comments :  0\n",
      "NumberShop 2\n",
      "NumComment 2\n",
      "Place : ca-mau\n",
      "NumberShopHave 100 comments :  0\n",
      "NumberShop 4\n",
      "NumComment 5\n",
      "Place : ca-mau\n",
      "NumberShopHave 100 comments :  0\n",
      "NumberShop 16\n",
      "NumComment 41\n",
      "Place : cao-bang\n",
      "NumberShopHave 100 comments :  2\n",
      "NumberShop 44\n",
      "NumComment 269\n",
      "Place : cao-bang\n",
      "NumberShopHave 100 comments :  0\n",
      "NumberShop 8\n",
      "NumComment 20\n",
      "Place : chiangmai\n",
      "NumberShopHave 100 comments :  0\n",
      "NumberShop 5\n",
      "NumComment 5\n",
      "Place : dong-nai\n"
     ]
    },
    {
     "name": "stderr",
     "output_type": "stream",
     "text": [
      " 11%|█         | 8/74 [00:01<00:16,  4.07it/s]"
     ]
    },
    {
     "name": "stdout",
     "output_type": "stream",
     "text": [
      "NumberShopHave 100 comments :  6\n",
      "NumberShop 690\n",
      "NumComment 5914\n",
      "Place : Gyeongqi-Do\n",
      "NumberShopHave 100 comments :  0\n",
      "NumberShop 1\n",
      "NumComment 1\n",
      "Place : ha-noi\n"
     ]
    },
    {
     "name": "stderr",
     "output_type": "stream",
     "text": [
      " 15%|█▍        | 11/74 [00:02<00:12,  5.11it/s]"
     ]
    },
    {
     "name": "stdout",
     "output_type": "stream",
     "text": [
      "NumberShopHave 100 comments :  6\n",
      "NumberShop 26\n",
      "NumComment 1108\n",
      "Place : hai-duong\n",
      "NumberShopHave 100 comments :  1\n",
      "NumberShop 52\n",
      "NumComment 429\n",
      "Place : hai-duong\n",
      "NumberShopHave 100 comments :  0\n",
      "NumberShop 4\n",
      "NumComment 6\n",
      "Place : hai-duong\n",
      "NumberShopHave 100 comments :  0\n",
      "NumberShop 7\n",
      "NumComment 13\n",
      "Place : hai-duong\n",
      "NumberShopHave 100 comments :  0\n",
      "NumberShop 5\n",
      "NumComment 119\n",
      "Place : hai-phong\n"
     ]
    },
    {
     "name": "stderr",
     "output_type": "stream",
     "text": [
      " 20%|██        | 15/74 [00:06<00:33,  1.77it/s]"
     ]
    },
    {
     "name": "stdout",
     "output_type": "stream",
     "text": [
      "NumberShopHave 100 comments :  37\n",
      "NumberShop 927\n",
      "NumComment 13978\n",
      "Place : ho-chi-minh\n"
     ]
    },
    {
     "name": "stderr",
     "output_type": "stream",
     "text": [
      " 22%|██▏       | 16/74 [00:08<00:47,  1.22it/s]"
     ]
    },
    {
     "name": "stdout",
     "output_type": "stream",
     "text": [
      "NumberShopHave 100 comments :  70\n",
      "NumberShop 480\n",
      "NumComment 13813\n",
      "Place : ho-chi-minh\n"
     ]
    },
    {
     "name": "stderr",
     "output_type": "stream",
     "text": [
      " 23%|██▎       | 17/74 [00:10<00:58,  1.03s/it]"
     ]
    },
    {
     "name": "stdout",
     "output_type": "stream",
     "text": [
      "NumberShopHave 100 comments :  36\n",
      "NumberShop 294\n",
      "NumComment 7393\n",
      "Place : ho-chi-minh\n"
     ]
    },
    {
     "name": "stderr",
     "output_type": "stream",
     "text": [
      " 24%|██▍       | 18/74 [00:13<01:19,  1.42s/it]"
     ]
    },
    {
     "name": "stdout",
     "output_type": "stream",
     "text": [
      "NumberShopHave 100 comments :  55\n",
      "NumberShop 425\n",
      "NumComment 11447\n",
      "Place : ho-chi-minh\n"
     ]
    },
    {
     "name": "stderr",
     "output_type": "stream",
     "text": [
      " 26%|██▌       | 19/74 [00:18<02:04,  2.27s/it]"
     ]
    },
    {
     "name": "stdout",
     "output_type": "stream",
     "text": [
      "NumberShopHave 100 comments :  82\n",
      "NumberShop 718\n",
      "NumComment 19441\n",
      "Place : ho-chi-minh\n"
     ]
    },
    {
     "name": "stderr",
     "output_type": "stream",
     "text": [
      " 27%|██▋       | 20/74 [00:20<01:49,  2.03s/it]"
     ]
    },
    {
     "name": "stdout",
     "output_type": "stream",
     "text": [
      "NumberShopHave 100 comments :  5\n",
      "NumberShop 1124\n",
      "NumComment 3772\n",
      "Place : ho-chi-minh\n"
     ]
    },
    {
     "name": "stderr",
     "output_type": "stream",
     "text": [
      " 28%|██▊       | 21/74 [00:20<01:23,  1.57s/it]"
     ]
    },
    {
     "name": "stdout",
     "output_type": "stream",
     "text": [
      "NumberShopHave 100 comments :  0\n",
      "NumberShop 130\n",
      "NumComment 627\n",
      "Place : ho-chi-minh\n"
     ]
    },
    {
     "name": "stderr",
     "output_type": "stream",
     "text": [
      " 31%|███       | 23/74 [00:21<00:57,  1.14s/it]"
     ]
    },
    {
     "name": "stdout",
     "output_type": "stream",
     "text": [
      "NumberShopHave 100 comments :  8\n",
      "NumberShop 387\n",
      "NumComment 4720\n",
      "Place : ho-chi-minh\n",
      "NumberShopHave 100 comments :  1\n",
      "NumberShop 153\n",
      "NumComment 439\n",
      "Place : ho-chi-minh\n"
     ]
    },
    {
     "name": "stderr",
     "output_type": "stream",
     "text": [
      " 32%|███▏      | 24/74 [00:23<01:09,  1.39s/it]"
     ]
    },
    {
     "name": "stdout",
     "output_type": "stream",
     "text": [
      "NumberShopHave 100 comments :  3\n",
      "NumberShop 1493\n",
      "NumComment 6507\n",
      "Place : ho-chi-minh\n"
     ]
    },
    {
     "name": "stderr",
     "output_type": "stream",
     "text": [
      " 34%|███▍      | 25/74 [00:25<01:07,  1.38s/it]"
     ]
    },
    {
     "name": "stdout",
     "output_type": "stream",
     "text": [
      "NumberShopHave 100 comments :  21\n",
      "NumberShop 496\n",
      "NumComment 4701\n",
      "Place : ho-chi-minh\n"
     ]
    },
    {
     "name": "stderr",
     "output_type": "stream",
     "text": [
      " 35%|███▌      | 26/74 [00:26<01:00,  1.25s/it]"
     ]
    },
    {
     "name": "stdout",
     "output_type": "stream",
     "text": [
      "NumberShopHave 100 comments :  7\n",
      "NumberShop 233\n",
      "NumComment 3289\n",
      "Place : hue\n"
     ]
    },
    {
     "name": "stderr",
     "output_type": "stream",
     "text": [
      " 36%|███▋      | 27/74 [00:30<01:46,  2.26s/it]"
     ]
    },
    {
     "name": "stdout",
     "output_type": "stream",
     "text": [
      "NumberShopHave 100 comments :  25\n",
      "NumberShop 1844\n",
      "NumComment 16201\n",
      "Place : hue\n",
      "NumberShopHave 100 comments :  0\n",
      "NumberShop 9\n",
      "NumComment 11\n",
      "Place : hue\n",
      "NumberShopHave 100 comments :  0\n",
      "NumberShop 9\n",
      "NumComment 112\n",
      "Place : hue\n",
      "NumberShopHave 100 comments :  0\n",
      "NumberShop 16\n",
      "NumComment 45\n",
      "Place : hue\n"
     ]
    },
    {
     "name": "stderr",
     "output_type": "stream",
     "text": [
      " 45%|████▍     | 33/74 [00:31<00:26,  1.53it/s]"
     ]
    },
    {
     "name": "stdout",
     "output_type": "stream",
     "text": [
      "NumberShopHave 100 comments :  6\n",
      "NumberShop 155\n",
      "NumComment 1914\n",
      "Place : hung-yen\n",
      "NumberShopHave 100 comments :  0\n",
      "NumberShop 104\n",
      "NumComment 162\n",
      "Place : hung-yen\n",
      "NumberShopHave 100 comments :  0\n",
      "NumberShop 3\n",
      "NumComment 5\n",
      "Place : hung-yen\n",
      "NumberShopHave 100 comments :  0\n",
      "NumberShop 3\n",
      "NumComment 3\n",
      "Place : hung-yen\n",
      "NumberShopHave 100 comments :  0\n",
      "NumberShop 2\n",
      "NumComment 40\n",
      "Place : khanh-hoa\n"
     ]
    },
    {
     "name": "stderr",
     "output_type": "stream",
     "text": [
      " 49%|████▊     | 36/74 [00:33<00:25,  1.49it/s]"
     ]
    },
    {
     "name": "stdout",
     "output_type": "stream",
     "text": [
      "NumberShopHave 100 comments :  23\n",
      "NumberShop 610\n",
      "NumComment 8106\n",
      "Place : khanh-hoa\n"
     ]
    },
    {
     "name": "stderr",
     "output_type": "stream",
     "text": [
      " 51%|█████▏    | 38/74 [00:35<00:26,  1.38it/s]"
     ]
    },
    {
     "name": "stdout",
     "output_type": "stream",
     "text": [
      "NumberShopHave 100 comments :  1\n",
      "NumberShop 1253\n",
      "NumComment 5691\n",
      "Place : khanh-hoa\n",
      "NumberShopHave 100 comments :  2\n",
      "NumberShop 29\n",
      "NumComment 361\n",
      "Place : khanh-hoa\n",
      "NumberShopHave 100 comments :  0\n",
      "NumberShop 23\n",
      "NumComment 104\n",
      "Place : khanh-hoa\n",
      "NumberShopHave 100 comments :  0\n",
      "NumberShop 11\n",
      "NumComment 24\n",
      "Place : khanh-hoa\n",
      "NumberShopHave 100 comments :  0\n",
      "NumberShop 33\n",
      "NumComment 82\n",
      "Place : khanh-hoa\n"
     ]
    },
    {
     "name": "stderr",
     "output_type": "stream",
     "text": [
      " 57%|█████▋    | 42/74 [00:36<00:14,  2.14it/s]"
     ]
    },
    {
     "name": "stdout",
     "output_type": "stream",
     "text": [
      "NumberShopHave 100 comments :  21\n",
      "NumberShop 242\n",
      "NumComment 3607\n",
      "Place : khanh-hoa\n"
     ]
    },
    {
     "name": "stderr",
     "output_type": "stream",
     "text": [
      " 58%|█████▊    | 43/74 [00:36<00:13,  2.26it/s]"
     ]
    },
    {
     "name": "stdout",
     "output_type": "stream",
     "text": [
      "NumberShopHave 100 comments :  6\n",
      "NumberShop 70\n",
      "NumComment 1363\n",
      "Place : lai-chau\n",
      "NumberShopHave 100 comments :  0\n",
      "NumberShop 4\n",
      "NumComment 12\n",
      "Place : lai-chau\n",
      "NumberShopHave 100 comments :  0\n",
      "NumberShop 1\n",
      "NumComment 1\n",
      "Place : nam-dinh\n"
     ]
    },
    {
     "name": "stderr",
     "output_type": "stream",
     "text": [
      " 62%|██████▏   | 46/74 [00:37<00:08,  3.16it/s]"
     ]
    },
    {
     "name": "stdout",
     "output_type": "stream",
     "text": [
      "NumberShopHave 100 comments :  0\n",
      "NumberShop 315\n",
      "NumComment 1348\n",
      "Place : nam-dinh\n",
      "NumberShopHave 100 comments :  0\n",
      "NumberShop 3\n",
      "NumComment 3\n",
      "Place : nam-dinh\n",
      "NumberShopHave 100 comments :  1\n",
      "NumberShop 5\n",
      "NumComment 129\n",
      "Place : phu-quoc\n"
     ]
    },
    {
     "name": "stderr",
     "output_type": "stream",
     "text": [
      " 66%|██████▌   | 49/74 [00:38<00:09,  2.62it/s]"
     ]
    },
    {
     "name": "stdout",
     "output_type": "stream",
     "text": [
      "NumberShopHave 100 comments :  24\n",
      "NumberShop 443\n",
      "NumComment 6146\n",
      "Place : phu-quoc\n",
      "NumberShopHave 100 comments :  0\n",
      "NumberShop 5\n",
      "NumComment 15\n",
      "Place : phu-quoc\n",
      "NumberShopHave 100 comments :  0\n",
      "NumberShop 3\n",
      "NumComment 14\n",
      "Place : phu-quoc\n",
      "NumberShopHave 100 comments :  0\n",
      "NumberShop 14\n",
      "NumComment 65\n",
      "Place : phu-quoc\n"
     ]
    },
    {
     "name": "stderr",
     "output_type": "stream",
     "text": [
      " 72%|███████▏  | 53/74 [00:39<00:05,  3.66it/s]"
     ]
    },
    {
     "name": "stdout",
     "output_type": "stream",
     "text": [
      "NumberShopHave 100 comments :  4\n",
      "NumberShop 153\n",
      "NumComment 1654\n",
      "Place : quang-nam\n"
     ]
    },
    {
     "name": "stderr",
     "output_type": "stream",
     "text": [
      " 73%|███████▎  | 54/74 [00:40<00:07,  2.54it/s]"
     ]
    },
    {
     "name": "stdout",
     "output_type": "stream",
     "text": [
      "NumberShopHave 100 comments :  6\n",
      "NumberShop 801\n",
      "NumComment 3900\n",
      "Place : quang-nam\n",
      "NumberShopHave 100 comments :  0\n",
      "NumberShop 2\n",
      "NumComment 2\n",
      "Place : quang-nam\n",
      "NumberShopHave 100 comments :  0\n",
      "NumberShop 11\n",
      "NumComment 25\n",
      "Place : quang-nam\n"
     ]
    },
    {
     "name": "stderr",
     "output_type": "stream",
     "text": [
      " 77%|███████▋  | 57/74 [00:40<00:05,  3.37it/s]"
     ]
    },
    {
     "name": "stdout",
     "output_type": "stream",
     "text": [
      "NumberShopHave 100 comments :  2\n",
      "NumberShop 173\n",
      "NumComment 1178\n",
      "Place : quang-ninh\n"
     ]
    },
    {
     "name": "stderr",
     "output_type": "stream",
     "text": [
      " 78%|███████▊  | 58/74 [00:42<00:07,  2.14it/s]"
     ]
    },
    {
     "name": "stdout",
     "output_type": "stream",
     "text": [
      "NumberShopHave 100 comments :  3\n",
      "NumberShop 1117\n",
      "NumComment 4482\n",
      "Place : quang-ninh\n",
      "NumberShopHave 100 comments :  0\n",
      "NumberShop 28\n",
      "NumComment 192\n",
      "Place : quang-ninh\n",
      "NumberShopHave 100 comments :  0\n",
      "NumberShop 1\n",
      "NumComment 3\n",
      "Place : quang-ninh\n",
      "NumberShopHave 100 comments :  0\n",
      "NumberShop 33\n",
      "NumComment 89\n",
      "Place : quang-ninh\n"
     ]
    },
    {
     "name": "stderr",
     "output_type": "stream",
     "text": [
      " 84%|████████▍ | 62/74 [00:42<00:03,  3.39it/s]"
     ]
    },
    {
     "name": "stdout",
     "output_type": "stream",
     "text": [
      "NumberShopHave 100 comments :  3\n",
      "NumberShop 109\n",
      "NumComment 1120\n",
      "Place : quang-tri\n"
     ]
    },
    {
     "name": "stderr",
     "output_type": "stream",
     "text": [
      " 96%|█████████▌| 71/74 [00:42<00:00,  8.01it/s]"
     ]
    },
    {
     "name": "stdout",
     "output_type": "stream",
     "text": [
      "NumberShopHave 100 comments :  0\n",
      "NumberShop 246\n",
      "NumComment 635\n",
      "Place : quang-tri\n",
      "NumberShopHave 100 comments :  0\n",
      "NumberShop 3\n",
      "NumComment 6\n",
      "Place : quang-tri\n",
      "NumberShopHave 100 comments :  0\n",
      "NumberShop 1\n",
      "NumComment 1\n",
      "Place : quang-tri\n",
      "NumberShopHave 100 comments :  0\n",
      "NumberShop 13\n",
      "NumComment 22\n",
      "Place : Selangor\n",
      "NumberShopHave 100 comments :  0\n",
      "NumberShop 5\n",
      "NumComment 5\n",
      "Place : taoyuan-city\n",
      "NumberShopHave 100 comments :  0\n",
      "NumberShop 3\n",
      "NumComment 3\n",
      "Place : tuyen-quang\n",
      "NumberShopHave 100 comments :  0\n",
      "NumberShop 31\n",
      "NumComment 49\n",
      "Place : tuyen-quang\n",
      "NumberShopHave 100 comments :  0\n",
      "NumberShop 3\n",
      "NumComment 4\n",
      "Place : vinh-phuc\n",
      "NumberShopHave 100 comments :  1\n",
      "NumberShop 115\n",
      "NumComment 412\n",
      "Place : vinh-phuc\n",
      "NumberShopHave 100 comments :  0\n",
      "NumberShop 3\n",
      "NumComment 8\n",
      "Place : vinh-phuc\n",
      "NumberShopHave 100 comments :  0\n",
      "NumberShop 2\n",
      "NumComment 3\n",
      "Place : vinh-phuc\n"
     ]
    },
    {
     "name": "stderr",
     "output_type": "stream",
     "text": [
      "100%|██████████| 74/74 [00:42<00:00,  1.72it/s]"
     ]
    },
    {
     "name": "stdout",
     "output_type": "stream",
     "text": [
      "NumberShopHave 100 comments :  0\n",
      "NumberShop 31\n",
      "NumComment 278\n"
     ]
    },
    {
     "name": "stderr",
     "output_type": "stream",
     "text": [
      "\n"
     ]
    }
   ],
   "source": [
    "init.process()"
   ]
  },
  {
   "cell_type": "code",
   "execution_count": 4,
   "metadata": {},
   "outputs": [
    {
     "name": "stdout",
     "output_type": "stream",
     "text": [
      "Tuyt Trang 123 \n"
     ]
    }
   ],
   "source": [
    "import re\n",
    "\n",
    "new_name = re.sub(r'\\s+', ' ', text).strip()\n",
    "new_name"
   ]
  },
  {
   "cell_type": "code",
   "execution_count": 21,
   "metadata": {},
   "outputs": [
    {
     "name": "stdout",
     "output_type": "stream",
     "text": [
      "['111']\n"
     ]
    }
   ],
   "source": [
    "number_pattern = r'^\\s*(\\d+)\\s'\n",
    "text = \"              111 bình luận đã chia sẻ 111 \"\n",
    "result = re.findall(number_pattern, text)\n",
    "print(result)"
   ]
  },
  {
   "cell_type": "code",
   "execution_count": 3,
   "metadata": {},
   "outputs": [
    {
     "data": {
      "text/plain": [
       "'Vị trí'"
      ]
     },
     "execution_count": 3,
     "metadata": {},
     "output_type": "execute_result"
    }
   ],
   "source": [
    "text = '\\n                                    Vị trí\\n                '                \n",
    "# text = text.replace('#', '')\n",
    "new = re.sub(r'\\s+', ' ', text).strip()\n",
    "new"
   ]
  },
  {
   "cell_type": "code",
   "execution_count": 1,
   "metadata": {},
   "outputs": [
    {
     "data": {
      "text/plain": [
       "'../Puppeteer/Comment/Place/ho-chi-minh/comment_ho-chi-minh.json'"
      ]
     },
     "execution_count": 1,
     "metadata": {},
     "output_type": "execute_result"
    }
   ],
   "source": [
    "text = '../Puppeteer/Comment/Place\\ho-chi-minh\\comment_ho-chi-minh.json'\n",
    "text.replace('\\\\', '/')"
   ]
  },
  {
   "cell_type": "code",
   "execution_count": 5,
   "metadata": {},
   "outputs": [
    {
     "name": "stderr",
     "output_type": "stream",
     "text": [
      "c:\\Users\\thanh\\anaconda3\\envs\\ml\\Lib\\site-packages\\tqdm\\auto.py:21: TqdmWarning: IProgress not found. Please update jupyter and ipywidgets. See https://ipywidgets.readthedocs.io/en/stable/user_install.html\n",
      "  from .autonotebook import tqdm as notebook_tqdm\n"
     ]
    }
   ],
   "source": [
    "from underthesea import text_normalize"
   ]
  },
  {
   "cell_type": "code",
   "execution_count": 9,
   "metadata": {},
   "outputs": [
    {
     "data": {
      "text/plain": [
       "'ahdhs#dsad'"
      ]
     },
     "execution_count": 9,
     "metadata": {},
     "output_type": "execute_result"
    }
   ],
   "source": [
    "text = \"ahdhs/#ds.ad\"\n",
    "name = re.sub(r'[@/.]', '', text)\n",
    "name2 = re.sub(r'\\s+', ' ', name).strip()\n",
    "name2"
   ]
  },
  {
   "cell_type": "code",
   "execution_count": 3,
   "metadata": {},
   "outputs": [],
   "source": [
    "a = {}"
   ]
  },
  {
   "cell_type": "code",
   "execution_count": 9,
   "metadata": {},
   "outputs": [
    {
     "data": {
      "text/plain": [
       "{'a': 2}"
      ]
     },
     "execution_count": 9,
     "metadata": {},
     "output_type": "execute_result"
    }
   ],
   "source": [
    "a = {}\n",
    "try:\n",
    "    a['a'] += 1\n",
    "except KeyError:\n",
    "    a.setdefault('a', 1)\n",
    "\n",
    "try:\n",
    "    a['a'] += 1\n",
    "except KeyError:\n",
    "    a.setdefault('a', 1)\n",
    "    \n",
    "a"
   ]
  }
 ],
 "metadata": {
  "kernelspec": {
   "display_name": "ml",
   "language": "python",
   "name": "python3"
  },
  "language_info": {
   "codemirror_mode": {
    "name": "ipython",
    "version": 3
   },
   "file_extension": ".py",
   "mimetype": "text/x-python",
   "name": "python",
   "nbconvert_exporter": "python",
   "pygments_lexer": "ipython3",
   "version": "3.11.5"
  }
 },
 "nbformat": 4,
 "nbformat_minor": 2
}
