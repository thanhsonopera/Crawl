{
 "cells": [
  {
   "cell_type": "code",
   "execution_count": 1,
   "metadata": {},
   "outputs": [],
   "source": [
    "from data import *"
   ]
  },
  {
   "cell_type": "code",
   "execution_count": 2,
   "metadata": {},
   "outputs": [
    {
     "name": "stdout",
     "output_type": "stream",
     "text": [
      "Type Shop 1 :  {'Trang điểm': 65, 'Nhà nghỉ': 86, 'Làm tóc': 31, 'Spa': 4, 'Buffet': 18, 'Siêu thị': 22, 'Vỉa hè': 46, 'Áo cưới': 92, 'Billiards': 71, 'Pub': 38, 'Bệnh viện': 49, 'Du lịch sinh thái': 26, 'Đại học': 58, 'Vật nuôi': 15, 'Dessert': 2, 'Dịch vụ vận chuyển đồ đạc': 70, 'Chùa': 10, 'Ăn vặt': 45, 'Phương tiện': 91, 'Sang trọng': 77, 'Tiệc cưới': 50, 'Di tích': 27, 'Nhà thờ': 68, 'Phòng khám': 25, 'Nhà trẻ': 62, 'Dịch vụ sửa chữa nhà cửa': 39, 'Quán ăn': 21, 'Trường dạy nghề': 87, 'Phòng vé máy bay': 61, 'Homestay': 82, 'Rạp chiếu phim': 9, 'Mẫu giáo': 73, 'Tiệc tận nơi': 35, 'Hãng du lịch': 76, 'Nối mi': 34, 'Khu chơi game': 16, 'Trụ sở ban ngành': 43, 'Shop hóa mỹ phẩm': 12, 'Giao cơm văn phòng': 60, 'Ăn chay': 36, 'Shop': 78, 'Mua sắm online': 84, 'Trung tâm giáo dục': 47, 'Khách sạn': 13, 'Khu nghỉ dưỡng': 1, 'Thăm quan': 23, 'Chăm sóc da': 89, 'Nha khoa': 8, 'Nhà hàng': 53, 'Phổ thông': 37, 'Chụp hình cưới': 55, 'Nhà thuốc': 5, 'Vận tải': 80, 'Phụ kiện': 30, 'Hoa cưới': 83, 'Căn hộ': 74, 'Thư viện': 32, 'Chụp ảnh': 51, 'Shop online': 56, 'Cao đẳng': 88, 'Viễn thông': 48, 'Trạm xăng': 28, 'Thẩm mỹ viện': 72, 'Gội đầu': 14, 'Công viên vui chơi': 57, 'Trung tâm ngoại ngữ': 33, 'Thể dục thể thao': 19, 'Thể dục thẩm mỹ': 69, 'Tàu du lịch': 41, 'Giặt ủi': 0, 'Hội nghị': 54, 'Xăm hình': 3, 'Bank': 81, 'Atm': 6, 'Trung tâm thương mại': 29, 'Shop hoa': 44, 'Sân khấu': 11, 'Tiệm bánh': 64, 'Xe cộ': 20, 'Karaoke': 40, 'Beer club': 59, 'Khu ẩm thực': 63, 'Dịch vụ vệ sinh': 79, 'Quán nhậu': 90, 'Nhà sách': 24, 'Massage': 52, 'Café': 75, 'Bảo tàng': 85, 'Bar': 66, 'Cửa hàng': 7, 'Tiệm nail': 67, 'Chợ': 17, 'Trung học': 42}\n",
      "Type Shop 2 :  {'Món miền trung': 38, 'Đông âu': 28, 'Philippines': 13, 'Châu phi': 12, 'Tây ban nha': 47, 'Tiệp (séc)': 0, 'Châu mỹ': 33, 'Món miền nam': 25, 'Món huế': 51, 'Đức': 3, 'Pháp': 23, 'Món việt': 40, 'Món ấn độ': 21, 'Bình định': 1, 'Đặc biệt': 8, 'Brazil': 9, 'Canada': 39, 'Iran': 37, 'Món thái': 24, 'Nha trang': 36, 'Tây nguyên': 34, 'Singapore': 42, 'Trung đông': 48, 'Đà lạt': 46, 'Malaysia': 7, 'Bánh pizza': 43, 'Quốc tế': 29, 'Thổ nhĩ kỳ': 4, 'Món quảng': 16, 'Hà nội': 30, 'Miền đông': 35, 'Campuchia': 31, 'Đặc sản vùng': 26, 'Món trung hoa': 5, 'Argentina': 41, 'Mỹ': 32, 'Thụy sĩ': 50, 'Indonesia': 45, 'Úc': 19, 'Món nhật': 18, 'Món âu': 10, 'Món bắc': 20, 'Mexico': 22, 'Ý': 2, 'Tây bắc': 15, 'Nam định': 44, 'Bắc âu': 27, 'Món á': 11, 'Miền tây': 49, 'Đài loan': 6, 'Ả rập': 17, 'Món hàn': 14}\n"
     ]
    }
   ],
   "source": [
    "init = Data()"
   ]
  },
  {
   "cell_type": "code",
   "execution_count": null,
   "metadata": {},
   "outputs": [],
   "source": [
    "init.exportDict()"
   ]
  },
  {
   "cell_type": "code",
   "execution_count": 9,
   "metadata": {},
   "outputs": [
    {
     "data": {
      "text/plain": [
       "'Đá lở'"
      ]
     },
     "execution_count": 9,
     "metadata": {},
     "output_type": "execute_result"
    }
   ],
   "source": [
    "d = 'đÁ Lở'\n",
    "d = d.capitalize()\n",
    "d"
   ]
  },
  {
   "cell_type": "code",
   "execution_count": 3,
   "metadata": {},
   "outputs": [
    {
     "name": "stderr",
     "output_type": "stream",
     "text": [
      "100%|██████████| 74/74 [00:08<00:00,  9.03it/s]\n"
     ]
    }
   ],
   "source": [
    "init.exportCsv()"
   ]
  },
  {
   "cell_type": "code",
   "execution_count": 3,
   "metadata": {},
   "outputs": [
    {
     "name": "stderr",
     "output_type": "stream",
     "text": [
      "  0%|          | 0/74 [00:00<?, ?it/s]"
     ]
    },
    {
     "name": "stdout",
     "output_type": "stream",
     "text": [
      "Place : ca-mau\n"
     ]
    },
    {
     "name": "stderr",
     "output_type": "stream",
     "text": [
      "  1%|▏         | 1/74 [00:00<00:15,  4.57it/s]"
     ]
    },
    {
     "name": "stdout",
     "output_type": "stream",
     "text": [
      "NumberShopHave 100 comments :  1\n",
      "NumberShop 181\n",
      "NumComment 646\n",
      "Place : ca-mau\n",
      "NumberShopHave 100 comments :  0\n",
      "NumberShop 2\n",
      "NumComment 2\n",
      "Place : ca-mau\n",
      "NumberShopHave 100 comments :  0\n",
      "NumberShop 4\n",
      "NumComment 5\n",
      "Place : ca-mau\n",
      "NumberShopHave 100 comments :  0\n",
      "NumberShop 16\n",
      "NumComment 41\n",
      "Place : cao-bang\n",
      "NumberShopHave 100 comments :  2\n",
      "NumberShop 44\n",
      "NumComment 269\n",
      "Place : cao-bang\n",
      "NumberShopHave 100 comments :  0\n",
      "NumberShop 8\n",
      "NumComment 20\n",
      "Place : chiangmai\n",
      "NumberShopHave 100 comments :  0\n",
      "NumberShop 5\n",
      "NumComment 5\n",
      "Place : dong-nai\n"
     ]
    },
    {
     "name": "stderr",
     "output_type": "stream",
     "text": [
      " 11%|█         | 8/74 [00:01<00:16,  4.07it/s]"
     ]
    },
    {
     "name": "stdout",
     "output_type": "stream",
     "text": [
      "NumberShopHave 100 comments :  6\n",
      "NumberShop 690\n",
      "NumComment 5914\n",
      "Place : Gyeongqi-Do\n",
      "NumberShopHave 100 comments :  0\n",
      "NumberShop 1\n",
      "NumComment 1\n",
      "Place : ha-noi\n"
     ]
    },
    {
     "name": "stderr",
     "output_type": "stream",
     "text": [
      " 15%|█▍        | 11/74 [00:02<00:12,  5.11it/s]"
     ]
    },
    {
     "name": "stdout",
     "output_type": "stream",
     "text": [
      "NumberShopHave 100 comments :  6\n",
      "NumberShop 26\n",
      "NumComment 1108\n",
      "Place : hai-duong\n",
      "NumberShopHave 100 comments :  1\n",
      "NumberShop 52\n",
      "NumComment 429\n",
      "Place : hai-duong\n",
      "NumberShopHave 100 comments :  0\n",
      "NumberShop 4\n",
      "NumComment 6\n",
      "Place : hai-duong\n",
      "NumberShopHave 100 comments :  0\n",
      "NumberShop 7\n",
      "NumComment 13\n",
      "Place : hai-duong\n",
      "NumberShopHave 100 comments :  0\n",
      "NumberShop 5\n",
      "NumComment 119\n",
      "Place : hai-phong\n"
     ]
    },
    {
     "name": "stderr",
     "output_type": "stream",
     "text": [
      " 20%|██        | 15/74 [00:06<00:33,  1.77it/s]"
     ]
    },
    {
     "name": "stdout",
     "output_type": "stream",
     "text": [
      "NumberShopHave 100 comments :  37\n",
      "NumberShop 927\n",
      "NumComment 13978\n",
      "Place : ho-chi-minh\n"
     ]
    },
    {
     "name": "stderr",
     "output_type": "stream",
     "text": [
      " 22%|██▏       | 16/74 [00:08<00:47,  1.22it/s]"
     ]
    },
    {
     "name": "stdout",
     "output_type": "stream",
     "text": [
      "NumberShopHave 100 comments :  70\n",
      "NumberShop 480\n",
      "NumComment 13813\n",
      "Place : ho-chi-minh\n"
     ]
    },
    {
     "name": "stderr",
     "output_type": "stream",
     "text": [
      " 23%|██▎       | 17/74 [00:10<00:58,  1.03s/it]"
     ]
    },
    {
     "name": "stdout",
     "output_type": "stream",
     "text": [
      "NumberShopHave 100 comments :  36\n",
      "NumberShop 294\n",
      "NumComment 7393\n",
      "Place : ho-chi-minh\n"
     ]
    },
    {
     "name": "stderr",
     "output_type": "stream",
     "text": [
      " 24%|██▍       | 18/74 [00:13<01:19,  1.42s/it]"
     ]
    },
    {
     "name": "stdout",
     "output_type": "stream",
     "text": [
      "NumberShopHave 100 comments :  55\n",
      "NumberShop 425\n",
      "NumComment 11447\n",
      "Place : ho-chi-minh\n"
     ]
    },
    {
     "name": "stderr",
     "output_type": "stream",
     "text": [
      " 26%|██▌       | 19/74 [00:18<02:04,  2.27s/it]"
     ]
    },
    {
     "name": "stdout",
     "output_type": "stream",
     "text": [
      "NumberShopHave 100 comments :  82\n",
      "NumberShop 718\n",
      "NumComment 19441\n",
      "Place : ho-chi-minh\n"
     ]
    },
    {
     "name": "stderr",
     "output_type": "stream",
     "text": [
      " 27%|██▋       | 20/74 [00:20<01:49,  2.03s/it]"
     ]
    },
    {
     "name": "stdout",
     "output_type": "stream",
     "text": [
      "NumberShopHave 100 comments :  5\n",
      "NumberShop 1124\n",
      "NumComment 3772\n",
      "Place : ho-chi-minh\n"
     ]
    },
    {
     "name": "stderr",
     "output_type": "stream",
     "text": [
      " 28%|██▊       | 21/74 [00:20<01:23,  1.57s/it]"
     ]
    },
    {
     "name": "stdout",
     "output_type": "stream",
     "text": [
      "NumberShopHave 100 comments :  0\n",
      "NumberShop 130\n",
      "NumComment 627\n",
      "Place : ho-chi-minh\n"
     ]
    },
    {
     "name": "stderr",
     "output_type": "stream",
     "text": [
      " 31%|███       | 23/74 [00:21<00:57,  1.14s/it]"
     ]
    },
    {
     "name": "stdout",
     "output_type": "stream",
     "text": [
      "NumberShopHave 100 comments :  8\n",
      "NumberShop 387\n",
      "NumComment 4720\n",
      "Place : ho-chi-minh\n",
      "NumberShopHave 100 comments :  1\n",
      "NumberShop 153\n",
      "NumComment 439\n",
      "Place : ho-chi-minh\n"
     ]
    },
    {
     "name": "stderr",
     "output_type": "stream",
     "text": [
      " 32%|███▏      | 24/74 [00:23<01:09,  1.39s/it]"
     ]
    },
    {
     "name": "stdout",
     "output_type": "stream",
     "text": [
      "NumberShopHave 100 comments :  3\n",
      "NumberShop 1493\n",
      "NumComment 6507\n",
      "Place : ho-chi-minh\n"
     ]
    },
    {
     "name": "stderr",
     "output_type": "stream",
     "text": [
      " 34%|███▍      | 25/74 [00:25<01:07,  1.38s/it]"
     ]
    },
    {
     "name": "stdout",
     "output_type": "stream",
     "text": [
      "NumberShopHave 100 comments :  21\n",
      "NumberShop 496\n",
      "NumComment 4701\n",
      "Place : ho-chi-minh\n"
     ]
    },
    {
     "name": "stderr",
     "output_type": "stream",
     "text": [
      " 35%|███▌      | 26/74 [00:26<01:00,  1.25s/it]"
     ]
    },
    {
     "name": "stdout",
     "output_type": "stream",
     "text": [
      "NumberShopHave 100 comments :  7\n",
      "NumberShop 233\n",
      "NumComment 3289\n",
      "Place : hue\n"
     ]
    },
    {
     "name": "stderr",
     "output_type": "stream",
     "text": [
      " 36%|███▋      | 27/74 [00:30<01:46,  2.26s/it]"
     ]
    },
    {
     "name": "stdout",
     "output_type": "stream",
     "text": [
      "NumberShopHave 100 comments :  25\n",
      "NumberShop 1844\n",
      "NumComment 16201\n",
      "Place : hue\n",
      "NumberShopHave 100 comments :  0\n",
      "NumberShop 9\n",
      "NumComment 11\n",
      "Place : hue\n",
      "NumberShopHave 100 comments :  0\n",
      "NumberShop 9\n",
      "NumComment 112\n",
      "Place : hue\n",
      "NumberShopHave 100 comments :  0\n",
      "NumberShop 16\n",
      "NumComment 45\n",
      "Place : hue\n"
     ]
    },
    {
     "name": "stderr",
     "output_type": "stream",
     "text": [
      " 45%|████▍     | 33/74 [00:31<00:26,  1.53it/s]"
     ]
    },
    {
     "name": "stdout",
     "output_type": "stream",
     "text": [
      "NumberShopHave 100 comments :  6\n",
      "NumberShop 155\n",
      "NumComment 1914\n",
      "Place : hung-yen\n",
      "NumberShopHave 100 comments :  0\n",
      "NumberShop 104\n",
      "NumComment 162\n",
      "Place : hung-yen\n",
      "NumberShopHave 100 comments :  0\n",
      "NumberShop 3\n",
      "NumComment 5\n",
      "Place : hung-yen\n",
      "NumberShopHave 100 comments :  0\n",
      "NumberShop 3\n",
      "NumComment 3\n",
      "Place : hung-yen\n",
      "NumberShopHave 100 comments :  0\n",
      "NumberShop 2\n",
      "NumComment 40\n",
      "Place : khanh-hoa\n"
     ]
    },
    {
     "name": "stderr",
     "output_type": "stream",
     "text": [
      " 49%|████▊     | 36/74 [00:33<00:25,  1.49it/s]"
     ]
    },
    {
     "name": "stdout",
     "output_type": "stream",
     "text": [
      "NumberShopHave 100 comments :  23\n",
      "NumberShop 610\n",
      "NumComment 8106\n",
      "Place : khanh-hoa\n"
     ]
    },
    {
     "name": "stderr",
     "output_type": "stream",
     "text": [
      " 51%|█████▏    | 38/74 [00:35<00:26,  1.38it/s]"
     ]
    },
    {
     "name": "stdout",
     "output_type": "stream",
     "text": [
      "NumberShopHave 100 comments :  1\n",
      "NumberShop 1253\n",
      "NumComment 5691\n",
      "Place : khanh-hoa\n",
      "NumberShopHave 100 comments :  2\n",
      "NumberShop 29\n",
      "NumComment 361\n",
      "Place : khanh-hoa\n",
      "NumberShopHave 100 comments :  0\n",
      "NumberShop 23\n",
      "NumComment 104\n",
      "Place : khanh-hoa\n",
      "NumberShopHave 100 comments :  0\n",
      "NumberShop 11\n",
      "NumComment 24\n",
      "Place : khanh-hoa\n",
      "NumberShopHave 100 comments :  0\n",
      "NumberShop 33\n",
      "NumComment 82\n",
      "Place : khanh-hoa\n"
     ]
    },
    {
     "name": "stderr",
     "output_type": "stream",
     "text": [
      " 57%|█████▋    | 42/74 [00:36<00:14,  2.14it/s]"
     ]
    },
    {
     "name": "stdout",
     "output_type": "stream",
     "text": [
      "NumberShopHave 100 comments :  21\n",
      "NumberShop 242\n",
      "NumComment 3607\n",
      "Place : khanh-hoa\n"
     ]
    },
    {
     "name": "stderr",
     "output_type": "stream",
     "text": [
      " 58%|█████▊    | 43/74 [00:36<00:13,  2.26it/s]"
     ]
    },
    {
     "name": "stdout",
     "output_type": "stream",
     "text": [
      "NumberShopHave 100 comments :  6\n",
      "NumberShop 70\n",
      "NumComment 1363\n",
      "Place : lai-chau\n",
      "NumberShopHave 100 comments :  0\n",
      "NumberShop 4\n",
      "NumComment 12\n",
      "Place : lai-chau\n",
      "NumberShopHave 100 comments :  0\n",
      "NumberShop 1\n",
      "NumComment 1\n",
      "Place : nam-dinh\n"
     ]
    },
    {
     "name": "stderr",
     "output_type": "stream",
     "text": [
      " 62%|██████▏   | 46/74 [00:37<00:08,  3.16it/s]"
     ]
    },
    {
     "name": "stdout",
     "output_type": "stream",
     "text": [
      "NumberShopHave 100 comments :  0\n",
      "NumberShop 315\n",
      "NumComment 1348\n",
      "Place : nam-dinh\n",
      "NumberShopHave 100 comments :  0\n",
      "NumberShop 3\n",
      "NumComment 3\n",
      "Place : nam-dinh\n",
      "NumberShopHave 100 comments :  1\n",
      "NumberShop 5\n",
      "NumComment 129\n",
      "Place : phu-quoc\n"
     ]
    },
    {
     "name": "stderr",
     "output_type": "stream",
     "text": [
      " 66%|██████▌   | 49/74 [00:38<00:09,  2.62it/s]"
     ]
    },
    {
     "name": "stdout",
     "output_type": "stream",
     "text": [
      "NumberShopHave 100 comments :  24\n",
      "NumberShop 443\n",
      "NumComment 6146\n",
      "Place : phu-quoc\n",
      "NumberShopHave 100 comments :  0\n",
      "NumberShop 5\n",
      "NumComment 15\n",
      "Place : phu-quoc\n",
      "NumberShopHave 100 comments :  0\n",
      "NumberShop 3\n",
      "NumComment 14\n",
      "Place : phu-quoc\n",
      "NumberShopHave 100 comments :  0\n",
      "NumberShop 14\n",
      "NumComment 65\n",
      "Place : phu-quoc\n"
     ]
    },
    {
     "name": "stderr",
     "output_type": "stream",
     "text": [
      " 72%|███████▏  | 53/74 [00:39<00:05,  3.66it/s]"
     ]
    },
    {
     "name": "stdout",
     "output_type": "stream",
     "text": [
      "NumberShopHave 100 comments :  4\n",
      "NumberShop 153\n",
      "NumComment 1654\n",
      "Place : quang-nam\n"
     ]
    },
    {
     "name": "stderr",
     "output_type": "stream",
     "text": [
      " 73%|███████▎  | 54/74 [00:40<00:07,  2.54it/s]"
     ]
    },
    {
     "name": "stdout",
     "output_type": "stream",
     "text": [
      "NumberShopHave 100 comments :  6\n",
      "NumberShop 801\n",
      "NumComment 3900\n",
      "Place : quang-nam\n",
      "NumberShopHave 100 comments :  0\n",
      "NumberShop 2\n",
      "NumComment 2\n",
      "Place : quang-nam\n",
      "NumberShopHave 100 comments :  0\n",
      "NumberShop 11\n",
      "NumComment 25\n",
      "Place : quang-nam\n"
     ]
    },
    {
     "name": "stderr",
     "output_type": "stream",
     "text": [
      " 77%|███████▋  | 57/74 [00:40<00:05,  3.37it/s]"
     ]
    },
    {
     "name": "stdout",
     "output_type": "stream",
     "text": [
      "NumberShopHave 100 comments :  2\n",
      "NumberShop 173\n",
      "NumComment 1178\n",
      "Place : quang-ninh\n"
     ]
    },
    {
     "name": "stderr",
     "output_type": "stream",
     "text": [
      " 78%|███████▊  | 58/74 [00:42<00:07,  2.14it/s]"
     ]
    },
    {
     "name": "stdout",
     "output_type": "stream",
     "text": [
      "NumberShopHave 100 comments :  3\n",
      "NumberShop 1117\n",
      "NumComment 4482\n",
      "Place : quang-ninh\n",
      "NumberShopHave 100 comments :  0\n",
      "NumberShop 28\n",
      "NumComment 192\n",
      "Place : quang-ninh\n",
      "NumberShopHave 100 comments :  0\n",
      "NumberShop 1\n",
      "NumComment 3\n",
      "Place : quang-ninh\n",
      "NumberShopHave 100 comments :  0\n",
      "NumberShop 33\n",
      "NumComment 89\n",
      "Place : quang-ninh\n"
     ]
    },
    {
     "name": "stderr",
     "output_type": "stream",
     "text": [
      " 84%|████████▍ | 62/74 [00:42<00:03,  3.39it/s]"
     ]
    },
    {
     "name": "stdout",
     "output_type": "stream",
     "text": [
      "NumberShopHave 100 comments :  3\n",
      "NumberShop 109\n",
      "NumComment 1120\n",
      "Place : quang-tri\n"
     ]
    },
    {
     "name": "stderr",
     "output_type": "stream",
     "text": [
      " 96%|█████████▌| 71/74 [00:42<00:00,  8.01it/s]"
     ]
    },
    {
     "name": "stdout",
     "output_type": "stream",
     "text": [
      "NumberShopHave 100 comments :  0\n",
      "NumberShop 246\n",
      "NumComment 635\n",
      "Place : quang-tri\n",
      "NumberShopHave 100 comments :  0\n",
      "NumberShop 3\n",
      "NumComment 6\n",
      "Place : quang-tri\n",
      "NumberShopHave 100 comments :  0\n",
      "NumberShop 1\n",
      "NumComment 1\n",
      "Place : quang-tri\n",
      "NumberShopHave 100 comments :  0\n",
      "NumberShop 13\n",
      "NumComment 22\n",
      "Place : Selangor\n",
      "NumberShopHave 100 comments :  0\n",
      "NumberShop 5\n",
      "NumComment 5\n",
      "Place : taoyuan-city\n",
      "NumberShopHave 100 comments :  0\n",
      "NumberShop 3\n",
      "NumComment 3\n",
      "Place : tuyen-quang\n",
      "NumberShopHave 100 comments :  0\n",
      "NumberShop 31\n",
      "NumComment 49\n",
      "Place : tuyen-quang\n",
      "NumberShopHave 100 comments :  0\n",
      "NumberShop 3\n",
      "NumComment 4\n",
      "Place : vinh-phuc\n",
      "NumberShopHave 100 comments :  1\n",
      "NumberShop 115\n",
      "NumComment 412\n",
      "Place : vinh-phuc\n",
      "NumberShopHave 100 comments :  0\n",
      "NumberShop 3\n",
      "NumComment 8\n",
      "Place : vinh-phuc\n",
      "NumberShopHave 100 comments :  0\n",
      "NumberShop 2\n",
      "NumComment 3\n",
      "Place : vinh-phuc\n"
     ]
    },
    {
     "name": "stderr",
     "output_type": "stream",
     "text": [
      "100%|██████████| 74/74 [00:42<00:00,  1.72it/s]"
     ]
    },
    {
     "name": "stdout",
     "output_type": "stream",
     "text": [
      "NumberShopHave 100 comments :  0\n",
      "NumberShop 31\n",
      "NumComment 278\n"
     ]
    },
    {
     "name": "stderr",
     "output_type": "stream",
     "text": [
      "\n"
     ]
    }
   ],
   "source": [
    "init.process()"
   ]
  },
  {
   "cell_type": "code",
   "execution_count": 4,
   "metadata": {},
   "outputs": [
    {
     "name": "stdout",
     "output_type": "stream",
     "text": [
      "Tuyt Trang 123 \n"
     ]
    }
   ],
   "source": [
    "import re\n",
    "\n",
    "new_name = re.sub(r'\\s+', ' ', text).strip()\n",
    "new_name"
   ]
  },
  {
   "cell_type": "code",
   "execution_count": 21,
   "metadata": {},
   "outputs": [
    {
     "name": "stdout",
     "output_type": "stream",
     "text": [
      "['111']\n"
     ]
    }
   ],
   "source": [
    "number_pattern = r'^\\s*(\\d+)\\s'\n",
    "text = \"              111 bình luận đã chia sẻ 111 \"\n",
    "result = re.findall(number_pattern, text)\n",
    "print(result)"
   ]
  },
  {
   "cell_type": "code",
   "execution_count": 3,
   "metadata": {},
   "outputs": [
    {
     "data": {
      "text/plain": [
       "'Vị trí'"
      ]
     },
     "execution_count": 3,
     "metadata": {},
     "output_type": "execute_result"
    }
   ],
   "source": [
    "text = '\\n                                    Vị trí\\n                '                \n",
    "# text = text.replace('#', '')\n",
    "new = re.sub(r'\\s+', ' ', text).strip()\n",
    "new"
   ]
  },
  {
   "cell_type": "code",
   "execution_count": 1,
   "metadata": {},
   "outputs": [
    {
     "data": {
      "text/plain": [
       "'../Puppeteer/Comment/Place/ho-chi-minh/comment_ho-chi-minh.json'"
      ]
     },
     "execution_count": 1,
     "metadata": {},
     "output_type": "execute_result"
    }
   ],
   "source": [
    "text = '../Puppeteer/Comment/Place\\ho-chi-minh\\comment_ho-chi-minh.json'\n",
    "text.replace('\\\\', '/')"
   ]
  },
  {
   "cell_type": "code",
   "execution_count": 5,
   "metadata": {},
   "outputs": [
    {
     "name": "stderr",
     "output_type": "stream",
     "text": [
      "c:\\Users\\thanh\\anaconda3\\envs\\ml\\Lib\\site-packages\\tqdm\\auto.py:21: TqdmWarning: IProgress not found. Please update jupyter and ipywidgets. See https://ipywidgets.readthedocs.io/en/stable/user_install.html\n",
      "  from .autonotebook import tqdm as notebook_tqdm\n"
     ]
    }
   ],
   "source": [
    "from underthesea import text_normalize"
   ]
  },
  {
   "cell_type": "code",
   "execution_count": 9,
   "metadata": {},
   "outputs": [
    {
     "data": {
      "text/plain": [
       "'ahdhs#dsad'"
      ]
     },
     "execution_count": 9,
     "metadata": {},
     "output_type": "execute_result"
    }
   ],
   "source": [
    "text = \"ahdhs/#ds.ad\"\n",
    "name = re.sub(r'[@/.]', '', text)\n",
    "name2 = re.sub(r'\\s+', ' ', name).strip()\n",
    "name2"
   ]
  },
  {
   "cell_type": "code",
   "execution_count": 3,
   "metadata": {},
   "outputs": [],
   "source": [
    "a = {}"
   ]
  },
  {
   "cell_type": "code",
   "execution_count": 9,
   "metadata": {},
   "outputs": [
    {
     "data": {
      "text/plain": [
       "{'a': 2}"
      ]
     },
     "execution_count": 9,
     "metadata": {},
     "output_type": "execute_result"
    }
   ],
   "source": [
    "a = {}\n",
    "try:\n",
    "    a['a'] += 1\n",
    "except KeyError:\n",
    "    a.setdefault('a', 1)\n",
    "\n",
    "try:\n",
    "    a['a'] += 1\n",
    "except KeyError:\n",
    "    a.setdefault('a', 1)\n",
    "    \n",
    "a"
   ]
  },
  {
   "cell_type": "code",
   "execution_count": 5,
   "metadata": {},
   "outputs": [
    {
     "data": {
      "text/plain": [
       "{'a', 'b'}"
      ]
     },
     "execution_count": 5,
     "metadata": {},
     "output_type": "execute_result"
    }
   ],
   "source": [
    "all_set_shop1 = set()\n",
    "\n",
    "set1 = set()\n",
    "\n",
    "set1.add('a')\n",
    "set1.add('b')\n",
    "\n",
    "all_set_shop1.update(set1)\n",
    "all_set_shop1.update(set1)\n",
    "all_set_shop1"
   ]
  },
  {
   "cell_type": "code",
   "execution_count": 4,
   "metadata": {},
   "outputs": [
    {
     "name": "stdout",
     "output_type": "stream",
     "text": [
      "Requirement already satisfied: pandas in c:\\users\\thanh\\anaconda3\\envs\\vlsp2\\lib\\site-packages (2.2.2)\n",
      "Requirement already satisfied: numpy>=1.23.2 in c:\\users\\thanh\\anaconda3\\envs\\vlsp2\\lib\\site-packages (from pandas) (1.24.3)\n",
      "Requirement already satisfied: python-dateutil>=2.8.2 in c:\\users\\thanh\\anaconda3\\envs\\vlsp2\\lib\\site-packages (from pandas) (2.9.0)\n",
      "Requirement already satisfied: pytz>=2020.1 in c:\\users\\thanh\\anaconda3\\envs\\vlsp2\\lib\\site-packages (from pandas) (2024.1)\n",
      "Requirement already satisfied: tzdata>=2022.7 in c:\\users\\thanh\\anaconda3\\envs\\vlsp2\\lib\\site-packages (from pandas) (2024.1)\n",
      "Requirement already satisfied: six>=1.5 in c:\\users\\thanh\\anaconda3\\envs\\vlsp2\\lib\\site-packages (from python-dateutil>=2.8.2->pandas) (1.16.0)\n"
     ]
    }
   ],
   "source": [
    "!pip install pandas"
   ]
  },
  {
   "cell_type": "code",
   "execution_count": 6,
   "metadata": {},
   "outputs": [],
   "source": [
    "import pandas as pd\n",
    "data = pd.read_csv(r'C:\\Users\\thanh\\Documents\\GitHub\\Crawl\\Process\\Repreprocess\\CSV\\ho-chi-minh\\comment_ho-chi-minh.csv')"
   ]
  },
  {
   "cell_type": "code",
   "execution_count": 7,
   "metadata": {},
   "outputs": [
    {
     "data": {
      "text/html": [
       "<div>\n",
       "<style scoped>\n",
       "    .dataframe tbody tr th:only-of-type {\n",
       "        vertical-align: middle;\n",
       "    }\n",
       "\n",
       "    .dataframe tbody tr th {\n",
       "        vertical-align: top;\n",
       "    }\n",
       "\n",
       "    .dataframe thead th {\n",
       "        text-align: right;\n",
       "    }\n",
       "</style>\n",
       "<table border=\"1\" class=\"dataframe\">\n",
       "  <thead>\n",
       "    <tr style=\"text-align: right;\">\n",
       "      <th></th>\n",
       "      <th>user_href</th>\n",
       "      <th>user_timec</th>\n",
       "      <th>user_titlec</th>\n",
       "      <th>user_comment</th>\n",
       "      <th>place</th>\n",
       "      <th>price</th>\n",
       "      <th>quality</th>\n",
       "      <th>service</th>\n",
       "      <th>ambience</th>\n",
       "      <th>user_options</th>\n",
       "      <th>num_cmt_post</th>\n",
       "      <th>city</th>\n",
       "      <th>category</th>\n",
       "      <th>type_1_shop</th>\n",
       "      <th>type_2_shop</th>\n",
       "    </tr>\n",
       "  </thead>\n",
       "  <tbody>\n",
       "    <tr>\n",
       "      <th>0</th>\n",
       "      <td>foodee_abc14671</td>\n",
       "      <td>2022-09-17T09:01:00</td>\n",
       "      <td>Đồ ăn ngon,phục vụ nhucc</td>\n",
       "      <td>Đồ ăn ngon, phục vụ như lol</td>\n",
       "      <td>1.0</td>\n",
       "      <td>4.0</td>\n",
       "      <td>10.0</td>\n",
       "      <td>1.0</td>\n",
       "      <td>1.0</td>\n",
       "      <td>NaN</td>\n",
       "      <td>0</td>\n",
       "      <td>ho-chi-minh</td>\n",
       "      <td>all</td>\n",
       "      <td>21/</td>\n",
       "      <td>40/</td>\n",
       "    </tr>\n",
       "    <tr>\n",
       "      <th>1</th>\n",
       "      <td>pdhphilong</td>\n",
       "      <td>2022-04-06T20:08:00</td>\n",
       "      <td>Phục vụ siêu tệ</td>\n",
       "      <td>Đồ ăn ngon mà thái độ không ra gì</td>\n",
       "      <td>1.0</td>\n",
       "      <td>4.0</td>\n",
       "      <td>5.0</td>\n",
       "      <td>1.0</td>\n",
       "      <td>5.0</td>\n",
       "      <td>NaN</td>\n",
       "      <td>0</td>\n",
       "      <td>ho-chi-minh</td>\n",
       "      <td>all</td>\n",
       "      <td>21/</td>\n",
       "      <td>40/</td>\n",
       "    </tr>\n",
       "    <tr>\n",
       "      <th>2</th>\n",
       "      <td>pebap_lovely</td>\n",
       "      <td>2022-02-12T13:51:00</td>\n",
       "      <td>Nồi bánh canh</td>\n",
       "      <td>Nhờ nhỏ e dẫn đi mới biết trong hẻm hóc có cái...</td>\n",
       "      <td>7.0</td>\n",
       "      <td>8.0</td>\n",
       "      <td>8.0</td>\n",
       "      <td>6.0</td>\n",
       "      <td>6.0</td>\n",
       "      <td>NaN</td>\n",
       "      <td>0</td>\n",
       "      <td>ho-chi-minh</td>\n",
       "      <td>all</td>\n",
       "      <td>21/</td>\n",
       "      <td>40/</td>\n",
       "    </tr>\n",
       "  </tbody>\n",
       "</table>\n",
       "</div>"
      ],
      "text/plain": [
       "         user_href           user_timec               user_titlec  \\\n",
       "0  foodee_abc14671  2022-09-17T09:01:00  Đồ ăn ngon,phục vụ nhucc   \n",
       "1       pdhphilong  2022-04-06T20:08:00           Phục vụ siêu tệ   \n",
       "2     pebap_lovely  2022-02-12T13:51:00             Nồi bánh canh   \n",
       "\n",
       "                                        user_comment  place  price  quality  \\\n",
       "0                        Đồ ăn ngon, phục vụ như lol    1.0    4.0     10.0   \n",
       "1                  Đồ ăn ngon mà thái độ không ra gì    1.0    4.0      5.0   \n",
       "2  Nhờ nhỏ e dẫn đi mới biết trong hẻm hóc có cái...    7.0    8.0      8.0   \n",
       "\n",
       "   service  ambience  user_options  num_cmt_post         city category  \\\n",
       "0      1.0       1.0           NaN             0  ho-chi-minh      all   \n",
       "1      1.0       5.0           NaN             0  ho-chi-minh      all   \n",
       "2      6.0       6.0           NaN             0  ho-chi-minh      all   \n",
       "\n",
       "  type_1_shop type_2_shop  \n",
       "0         21/         40/  \n",
       "1         21/         40/  \n",
       "2         21/         40/  "
      ]
     },
     "execution_count": 7,
     "metadata": {},
     "output_type": "execute_result"
    }
   ],
   "source": [
    "data.head(3)"
   ]
  }
 ],
 "metadata": {
  "kernelspec": {
   "display_name": "ml",
   "language": "python",
   "name": "python3"
  },
  "language_info": {
   "codemirror_mode": {
    "name": "ipython",
    "version": 3
   },
   "file_extension": ".py",
   "mimetype": "text/x-python",
   "name": "python",
   "nbconvert_exporter": "python",
   "pygments_lexer": "ipython3",
   "version": "3.11.5"
  }
 },
 "nbformat": 4,
 "nbformat_minor": 2
}
